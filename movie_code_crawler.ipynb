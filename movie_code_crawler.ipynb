{
 "cells": [
  {
   "cell_type": "code",
   "execution_count": null,
   "id": "special-peeing",
   "metadata": {},
   "outputs": [],
   "source": [
    "import os\n",
    "import json\n",
    "import time\n",
    "import csv\n",
    "import requests\n",
    "from selenium import webdriver\n",
    "from selenium.webdriver.common.keys import Keys\n",
    "from dotenv import load_dotenv"
   ]
  },
  {
   "cell_type": "code",
   "execution_count": null,
   "id": "lonely-council",
   "metadata": {},
   "outputs": [],
   "source": [
    "load_dotenv(verbose=True)\n",
    "base_url=os.getenv('SEARCH_BASE')\n",
    "driver = webdriver.Chrome('./chromedriver')"
   ]
  },
  {
   "cell_type": "code",
   "execution_count": null,
   "id": "specialized-steel",
   "metadata": {},
   "outputs": [],
   "source": [
    "res = requests.get('http://vloom.co.kr:3000/music?id=0&user_id=-1')"
   ]
  },
  {
   "cell_type": "code",
   "execution_count": null,
   "id": "apparent-measurement",
   "metadata": {},
   "outputs": [],
   "source": [
    "request_body_list = []"
   ]
  },
  {
   "cell_type": "code",
   "execution_count": null,
   "id": "subjective-specification",
   "metadata": {},
   "outputs": [],
   "source": [
    "music_list = res.json()['body']\n",
    "\n",
    "for music in music_list:\n",
    "    while(True):\n",
    "        try:\n",
    "            driver.get(base_url + music['artist'] + '+' + music['title'])\n",
    "            code = driver.find_elements_by_css_selector('a#video-title')[0].get_attribute('href')\n",
    "            request_body_list.append([music['id'], code.split('watch?v=')[1]])\n",
    "            break\n",
    "        except:\n",
    "            continue"
   ]
  },
  {
   "cell_type": "code",
   "execution_count": null,
   "id": "peaceful-limit",
   "metadata": {},
   "outputs": [],
   "source": [
    "request_body_list"
   ]
  },
  {
   "cell_type": "code",
   "execution_count": null,
   "id": "ultimate-gnome",
   "metadata": {},
   "outputs": [],
   "source": [
    "success = 0\n",
    "error = 0\n",
    "for request_body in request_body_list:\n",
    "    datas = {\n",
    "        'id': request_body[0],\n",
    "        'code': request_body[1]\n",
    "    }\n",
    "    url = 'http://localhost:3000/dev/music/youtube'\n",
    "    res = requests.patch(url, json=datas)\n",
    "    if(res.json()['status'] == False):\n",
    "        error = error + 1\n",
    "    else:\n",
    "        success = success + 1"
   ]
  },
  {
   "cell_type": "code",
   "execution_count": null,
   "id": "professional-differential",
   "metadata": {},
   "outputs": [],
   "source": [
    "success"
   ]
  },
  {
   "cell_type": "code",
   "execution_count": null,
   "id": "nominated-uzbekistan",
   "metadata": {},
   "outputs": [],
   "source": [
    "error"
   ]
  },
  {
   "cell_type": "code",
   "execution_count": null,
   "id": "compliant-twelve",
   "metadata": {},
   "outputs": [],
   "source": []
  }
 ],
 "metadata": {
  "kernelspec": {
   "display_name": "Python 3",
   "language": "python",
   "name": "python3"
  },
  "language_info": {
   "codemirror_mode": {
    "name": "ipython",
    "version": 3
   },
   "file_extension": ".py",
   "mimetype": "text/x-python",
   "name": "python",
   "nbconvert_exporter": "python",
   "pygments_lexer": "ipython3",
   "version": "3.8.7"
  }
 },
 "nbformat": 4,
 "nbformat_minor": 5
}
