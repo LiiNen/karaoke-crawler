{
 "cells": [
  {
   "cell_type": "code",
   "execution_count": null,
   "id": "statistical-tongue",
   "metadata": {},
   "outputs": [],
   "source": [
    "import os\n",
    "import json\n",
    "import time\n",
    "import csv\n",
    "import requests\n",
    "from selenium import webdriver\n",
    "from selenium.webdriver.common.keys import Keys\n",
    "from dotenv import load_dotenv"
   ]
  },
  {
   "cell_type": "code",
   "execution_count": null,
   "id": "surprising-stomach",
   "metadata": {},
   "outputs": [],
   "source": [
    "load_dotenv(verbose=True)\n",
    "driver = webdriver.Chrome('./chromedriver')\n",
    "tj_base = 'http://m.tjmedia.co.kr/tjsong/song_search_result.asp?strType=1&strText='\n",
    "tj_query = '&strCond=0&strSize01=100'\n",
    "movie_url = os.getenv('SEARCH_BASE')"
   ]
  },
  {
   "cell_type": "code",
   "execution_count": null,
   "id": "judicial-minute",
   "metadata": {},
   "outputs": [],
   "source": [
    "data_list = []\n",
    "\n",
    "with open('artist_title_list.csv', 'r', encoding='utf-8') as f:\n",
    "    reader = csv.reader(f)\n",
    "    for line in reader:\n",
    "        data_list.append([line[0].replace('\\xa0', ' '), line[1].replace('\\xa0', ' ')])\n",
    "data_list.pop(0)\n",
    "\n",
    "data_list"
   ]
  },
  {
   "cell_type": "markdown",
   "id": "grateful-material",
   "metadata": {},
   "source": [
    "## get karaoke data"
   ]
  },
  {
   "cell_type": "code",
   "execution_count": null,
   "id": "premium-spokesman",
   "metadata": {},
   "outputs": [],
   "source": [
    "insertion_music_list = []\n",
    "\n",
    "count = 0;\n",
    "true_count = 0;\n",
    "\n",
    "for data in data_list:\n",
    "    try:\n",
    "        find = False\n",
    "        title = data[1].split('(')[0].replace(' ', '').lower()\n",
    "        artist = data[0]\n",
    "\n",
    "        driver.get(tj_base + title + tj_query)\n",
    "\n",
    "        result_list = driver.find_elements_by_css_selector('#BoardType1 tbody')[0]\n",
    "        result_list = result_list.find_elements_by_css_selector('tr')\n",
    "        result_list.pop(0)\n",
    "\n",
    "        ### result_td\n",
    "        ### 0: karaoke number\n",
    "        ### 1: music title\n",
    "        ### 2: artist name\n",
    "        artist_temp = artist.replace(' ', '').lower()\n",
    "        for result in result_list:\n",
    "            result_td = result.find_elements_by_css_selector('td')   \n",
    "            title_search = result_td[1]\n",
    "\n",
    "            ## MR 제거\n",
    "            if len(title_search.find_elements_by_css_selector('*')) > 2:\n",
    "                continue\n",
    "            else:\n",
    "                artist_search = result_td[2].text.replace(' ', '').lower()\n",
    "                if artist_search in artist_temp or artist_temp in artist_search:\n",
    "                    find = True\n",
    "                    true_count += 1\n",
    "                    insertion_music_list.append([result_td[0].text, result_td[1].text, result_td[2].text])\n",
    "                    break\n",
    "                else:\n",
    "                    continue\n",
    "    except:\n",
    "        find=False\n",
    "    count += 1\n",
    "\n",
    "insertion_music_list"
   ]
  },
  {
   "cell_type": "code",
   "execution_count": null,
   "id": "composed-bachelor",
   "metadata": {},
   "outputs": [],
   "source": [
    "error = 0;\n",
    "patch = 0;\n",
    "post = 0;\n",
    "\n",
    "for insertion_music in insertion_music_list:\n",
    "    datas = {\n",
    "        'chart': -1,\n",
    "        'title': insertion_music[1],\n",
    "        'artist': insertion_music[2],\n",
    "        'number': insertion_music[0]\n",
    "    }\n",
    "    url = 'http://localhost:3000/dev/music/chart'\n",
    "    res = requests.post(url, json=datas)\n",
    "    if(res.json()['status'] == False):\n",
    "        error = error + 1\n",
    "    else:\n",
    "        if(res.json()['body'] == 'patch'):\n",
    "            patch = patch + 1\n",
    "        if(res.json()['body'] == 'post'):\n",
    "            post = post + 1\n",
    "            \n",
    "print(error, patch, post)"
   ]
  },
  {
   "cell_type": "code",
   "execution_count": null,
   "id": "hearing-nation",
   "metadata": {},
   "outputs": [],
   "source": [
    "res = requests.get('http://localhost:3000/dev/music/youtube')\n",
    "empty_music_list = res.json()['body']\n",
    "request_body_list = []\n",
    "\n",
    "for empty_music in empty_music_list:\n",
    "    count = 0;\n",
    "    while(True):\n",
    "        try:\n",
    "            driver.get(movie_url + empty_music['artist'] + '+' + empty_music['title'])\n",
    "            code = driver.find_elements_by_css_selector('a#video-title')[0].get_attribute('href')\n",
    "            request_body_list.append([empty_music['id'], code.split('watch?v=')[1]])\n",
    "            break\n",
    "        except:\n",
    "            if(count > 10):\n",
    "                break\n",
    "            count += 1\n",
    "            continue\n",
    "            \n",
    "request_body_list"
   ]
  },
  {
   "cell_type": "code",
   "execution_count": null,
   "id": "stable-providence",
   "metadata": {},
   "outputs": [],
   "source": [
    "success = 0\n",
    "error = 0\n",
    "for request_body in request_body_list:\n",
    "    datas = {\n",
    "        'id': request_body[0],\n",
    "        'code': request_body[1]\n",
    "    }\n",
    "    url = 'http://localhost:3000/dev/music/youtube'\n",
    "    res = requests.patch(url, json=datas)\n",
    "    if(res.json()['status'] == False):\n",
    "        error = error + 1\n",
    "    else:\n",
    "        success = success + 1\n",
    "        \n",
    "print(error, success)"
   ]
  },
  {
   "cell_type": "code",
   "execution_count": null,
   "id": "married-muscle",
   "metadata": {},
   "outputs": [],
   "source": []
  }
 ],
 "metadata": {
  "kernelspec": {
   "display_name": "Python 3",
   "language": "python",
   "name": "python3"
  },
  "language_info": {
   "codemirror_mode": {
    "name": "ipython",
    "version": 3
   },
   "file_extension": ".py",
   "mimetype": "text/x-python",
   "name": "python",
   "nbconvert_exporter": "python",
   "pygments_lexer": "ipython3",
   "version": "3.8.7"
  }
 },
 "nbformat": 4,
 "nbformat_minor": 5
}
