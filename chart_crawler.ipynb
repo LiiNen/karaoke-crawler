{
 "cells": [
  {
   "cell_type": "code",
   "execution_count": null,
   "id": "tracked-sleeping",
   "metadata": {},
   "outputs": [],
   "source": [
    "import os\n",
    "import json\n",
    "import time\n",
    "import csv\n",
    "import requests\n",
    "from selenium import webdriver\n",
    "from selenium.webdriver.common.keys import Keys\n",
    "from dotenv import load_dotenv"
   ]
  },
  {
   "cell_type": "code",
   "execution_count": null,
   "id": "operational-tanzania",
   "metadata": {},
   "outputs": [],
   "source": [
    "load_dotenv(verbose=True)\n",
    "TJ_SRC=os.getenv('TJ_CHART')\n",
    "driver = webdriver.Chrome('./chromedriver')\n",
    "driver.get(TJ_SRC)"
   ]
  },
  {
   "cell_type": "code",
   "execution_count": null,
   "id": "beneficial-columbus",
   "metadata": {},
   "outputs": [],
   "source": [
    "chart_data = {\n",
    "    'chart': [],\n",
    "    'number': [],\n",
    "    'title': [],\n",
    "    'artist': [],\n",
    "}"
   ]
  },
  {
   "cell_type": "code",
   "execution_count": null,
   "id": "useful-merchant",
   "metadata": {},
   "outputs": [],
   "source": [
    "def addRow(para):\n",
    "    t_index = 0\n",
    "    for key in chart_data.keys():\n",
    "        chart_data[key].append(para[t_index])\n",
    "        t_index+=1"
   ]
  },
  {
   "cell_type": "code",
   "execution_count": null,
   "id": "molecular-vancouver",
   "metadata": {},
   "outputs": [],
   "source": [
    "chart_list = driver.find_elements_by_css_selector('#BoardType1 tbody tr')\n",
    "chart_list.pop(0)\n",
    "\n",
    "for chart in chart_list:\n",
    "    chart_td = chart.find_elements_by_css_selector('td')\n",
    "    addRow([chart_td[0].text, chart_td[1].text, chart_td[2].text, chart_td[3].text])"
   ]
  },
  {
   "cell_type": "code",
   "execution_count": null,
   "id": "numeric-eclipse",
   "metadata": {},
   "outputs": [],
   "source": [
    "url = 'http://localhost:3000/dev/music/chart'\n",
    "res = requests.patch(url)\n",
    "\n",
    "print(res.json()['status'])"
   ]
  },
  {
   "cell_type": "code",
   "execution_count": null,
   "id": "instrumental-depression",
   "metadata": {},
   "outputs": [],
   "source": [
    "error = 0;\n",
    "patch = 0;\n",
    "post = 0;\n",
    "for i in range(0, len(chart_data['chart'])):\n",
    "    datas = {\n",
    "        'chart': chart_data['chart'][i],\n",
    "        'title': chart_data['title'][i],\n",
    "        'artist': chart_data['artist'][i],\n",
    "        'number': chart_data['number'][i],\n",
    "    }\n",
    "    url = 'http://localhost:3000/dev/music/chart'\n",
    "    res = requests.post(url, json=datas)\n",
    "    if(res.json()['status'] == False):\n",
    "        error = error + 1\n",
    "    else:\n",
    "        if(res.json()['body'] == 'patch'):\n",
    "            patch = patch + 1\n",
    "        if(res.json()['body'] == 'post'):\n",
    "            post = post + 1"
   ]
  },
  {
   "cell_type": "code",
   "execution_count": null,
   "id": "danish-missile",
   "metadata": {},
   "outputs": [],
   "source": [
    "print(error, patch, post)\n",
    "print(error+patch+post)"
   ]
  }
 ],
 "metadata": {
  "kernelspec": {
   "display_name": "Python 3",
   "language": "python",
   "name": "python3"
  },
  "language_info": {
   "codemirror_mode": {
    "name": "ipython",
    "version": 3
   },
   "file_extension": ".py",
   "mimetype": "text/x-python",
   "name": "python",
   "nbconvert_exporter": "python",
   "pygments_lexer": "ipython3",
   "version": "3.8.7"
  }
 },
 "nbformat": 4,
 "nbformat_minor": 5
}
