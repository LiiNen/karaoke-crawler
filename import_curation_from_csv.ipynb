{
 "cells": [
  {
   "cell_type": "code",
   "execution_count": null,
   "id": "9438cda5",
   "metadata": {},
   "outputs": [],
   "source": [
    "import json\n",
    "import csv\n",
    "import math\n",
    "import requests\n",
    "import glob"
   ]
  },
  {
   "cell_type": "code",
   "execution_count": null,
   "id": "74c71e57",
   "metadata": {},
   "outputs": [],
   "source": [
    "file = glob.glob('./9.csv')[0]\n",
    "file"
   ]
  },
  {
   "cell_type": "code",
   "execution_count": null,
   "id": "eb8c7555",
   "metadata": {},
   "outputs": [],
   "source": [
    "curation_list = {}\n",
    "with open(file, 'r', encoding='utf-8') as f:\n",
    "    reader = csv.reader(f)\n",
    "    c_title = ''\n",
    "    for line in reader:\n",
    "        if(line[1] == '' and line[2] == ''):\n",
    "            c_title = line[0]\n",
    "            if(len(c_title.split('\\ufeff'))>1):\n",
    "                c_title = c_title.split('\\ufeff')[1]\n",
    "            curation_list[c_title] = []\n",
    "        try:\n",
    "            if(int(line[0]) > 0 and int(line[0]) < 100000):\n",
    "                curation_list[c_title].append(int(line[0]))\n",
    "        except:\n",
    "            continue"
   ]
  },
  {
   "cell_type": "code",
   "execution_count": null,
   "id": "9009463a",
   "metadata": {},
   "outputs": [],
   "source": [
    "curation_list"
   ]
  },
  {
   "cell_type": "code",
   "execution_count": null,
   "id": "96531dae",
   "metadata": {},
   "outputs": [],
   "source": [
    "curation_id_list = {}\n",
    "index = 1\n",
    "for key in curation_list.keys():\n",
    "    datas = {\n",
    "        'title': key,\n",
    "        'ctype_id': file.split('/')[1][0],\n",
    "        'content': key,\n",
    "        'music_id_list': '',\n",
    "        'img_id': str(file.split('/')[1][0]) + '_' + str(index)\n",
    "    }\n",
    "    index = index+1\n",
    "    url = 'http://localhost:3000/curation'\n",
    "    res = requests.post(url, json=datas)\n",
    "    if(res.json()['status'] == False):\n",
    "        print(key, 'error')\n",
    "    else:\n",
    "        curation_id_list[key] = res.json()['log']"
   ]
  },
  {
   "cell_type": "code",
   "execution_count": null,
   "id": "d477c9b6",
   "metadata": {},
   "outputs": [],
   "source": [
    "curation_id_list"
   ]
  },
  {
   "cell_type": "code",
   "execution_count": null,
   "id": "be895336",
   "metadata": {},
   "outputs": [],
   "source": [
    "for key in curation_list.keys():\n",
    "    for number in curation_list[key]:\n",
    "        datas = {\n",
    "            'curation_id': curation_id_list[key],\n",
    "            'number': number\n",
    "        }\n",
    "        url = 'http://localhost:3000/curation/item/number'\n",
    "        res = requests.post(url, json=datas)\n",
    "        if(res.json()['status'] == False):\n",
    "            print(number, res.json()['log'])"
   ]
  },
  {
   "cell_type": "code",
   "execution_count": null,
   "id": "f34204df",
   "metadata": {},
   "outputs": [],
   "source": []
  }
 ],
 "metadata": {
  "kernelspec": {
   "display_name": "Python 3 (ipykernel)",
   "language": "python",
   "name": "python3"
  },
  "language_info": {
   "codemirror_mode": {
    "name": "ipython",
    "version": 3
   },
   "file_extension": ".py",
   "mimetype": "text/x-python",
   "name": "python",
   "nbconvert_exporter": "python",
   "pygments_lexer": "ipython3",
   "version": "3.8.10"
  }
 },
 "nbformat": 4,
 "nbformat_minor": 5
}
