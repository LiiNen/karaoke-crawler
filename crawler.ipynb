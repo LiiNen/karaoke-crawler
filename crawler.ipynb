{
 "cells": [
  {
   "cell_type": "code",
   "execution_count": null,
   "id": "communist-recovery",
   "metadata": {},
   "outputs": [],
   "source": [
    "import os\n",
    "import json\n",
    "import time\n",
    "import csv\n",
    "from selenium import webdriver\n",
    "from selenium.webdriver.common.keys import Keys\n",
    "from dotenv import load_dotenv"
   ]
  },
  {
   "cell_type": "code",
   "execution_count": null,
   "id": "hawaiian-dynamics",
   "metadata": {},
   "outputs": [],
   "source": [
    "load_dotenv(verbose=True)\n",
    "TJ_SRC=os.getenv('TJ_SRC')\n",
    "driver = webdriver.Chrome('./chromedriver')\n",
    "driver.get(TJ_SRC)"
   ]
  },
  {
   "cell_type": "code",
   "execution_count": null,
   "id": "social-engineer",
   "metadata": {},
   "outputs": [],
   "source": [
    "exception_list = ['악동뮤지션', '에프엑스', '오대천왕 (정형돈, 밴드 혁오)', '개리, 진실', '다이나믹 듀오, Jay Park', '일락/채린', '범키, 챈슬러, 산체스, 태완, 양다일, MXM', '크러쉬 & 로꼬', '박재범, 더블케이, 보이비', '박재범, GRAY', '아이유', '케이윌', '지드래곤', '우리 동네 음악대장']\n",
    "replace_list = ['AKMU', 'F(X)', '오대천왕(정형돈,혁오)', '프라이머리, 개리, 진실', '프라이머리, 다이나믹 듀오, Jay Park', '일락(duet.채린)', '브랜뉴뮤직, 범키, 챈슬러, 산체스, 태완, 양다일, MXM', '크러쉬,로꼬', '박재범,doublek,보이비', '박재범,그레이', 'IU', 'K.Will', 'G-DRAGON', '하현우']"
   ]
  },
  {
   "cell_type": "code",
   "execution_count": null,
   "id": "exact-messenger",
   "metadata": {},
   "outputs": [],
   "source": [
    "id_list = []\n",
    "music_list = []\n",
    "artist_list = []\n",
    "number_list = []"
   ]
  },
  {
   "cell_type": "code",
   "execution_count": null,
   "id": "nonprofit-medication",
   "metadata": {},
   "outputs": [],
   "source": [
    "find_dict = {\n",
    "    'id': [],\n",
    "    'music': [],\n",
    "    'artist': [],\n",
    "    'karaoke_id': [],\n",
    "    'karaoke_music': [],\n",
    "    'karaoke_artist': [],\n",
    "}"
   ]
  },
  {
   "cell_type": "code",
   "execution_count": null,
   "id": "fourth-fiction",
   "metadata": {},
   "outputs": [],
   "source": [
    "with open('itdb_tracks.csv', 'r', encoding='utf-8') as f:\n",
    "    reader = csv.reader(f)\n",
    "    for line in reader:\n",
    "        id_list.append(line[1])\n",
    "        music_list.append(line[2])\n",
    "        artist_list.append(line[3])\n",
    "        \n",
    "with open('number.csv', 'r', encoding='utf-8') as f:\n",
    "    reader = csv.reader(f)\n",
    "    for line in reader:\n",
    "        number_list.append(int(line[3]))\n",
    "        \n",
    "print(len(id_list))\n",
    "print(len(number_list))"
   ]
  },
  {
   "cell_type": "code",
   "execution_count": null,
   "id": "hidden-standing",
   "metadata": {},
   "outputs": [],
   "source": [
    "def addRow(para):\n",
    "    t_index = 0\n",
    "    for key in find_dict.keys():\n",
    "        find_dict[key].append(para[t_index])\n",
    "        t_index+=1"
   ]
  },
  {
   "cell_type": "code",
   "execution_count": null,
   "id": "manual-librarian",
   "metadata": {},
   "outputs": [],
   "source": [
    "uri_base = 'http://m.tjmedia.co.kr/tjsong/song_search_result.asp?strType=1&strText='\n",
    "uri_query = '&strCond=0&strSize01=100'\n",
    "\n",
    "count = 0;\n",
    "true_count = 0;\n",
    "\n",
    "parser_list = [7, 6, 5, 4, 3, 2]\n",
    "\n",
    "for i in range(0, len(music_list)):\n",
    "    if(artist_list[i] not in exception_list):\n",
    "        continue\n",
    "    try:\n",
    "#         print(id_list[i], music_list[i], ' // ', artist_list[i], '에 대한 검색 결과')\n",
    "        find = False\n",
    "        music = music_list[i]\n",
    "        music = music.split('(')[0].replace(' ', '').lower()\n",
    "        artist = artist_list[i]\n",
    "        if artist in exception_list:\n",
    "            artist = replace_list[exception_list.index(artist)]\n",
    "\n",
    "        driver.get(uri_base + music + uri_query)\n",
    "\n",
    "        result_list = driver.find_elements_by_css_selector('#BoardType1 tbody')[0]\n",
    "        result_list = result_list.find_elements_by_css_selector('tr')\n",
    "        result_list.pop(0)\n",
    "\n",
    "        ### result_td\n",
    "        ### 0: karaoke number\n",
    "        ### 1: music title\n",
    "        ### 2: artist name\n",
    "        artist_temp = artist.replace(' ', '').lower()\n",
    "#         print('비교하는 아티스트명: ', artist_temp)\n",
    "        for result in result_list:\n",
    "            result_td = result.find_elements_by_css_selector('td')   \n",
    "            title = result_td[1]\n",
    "\n",
    "            if len(title.find_elements_by_css_selector('*')) > 2:\n",
    "                ## MR 제거\n",
    "                continue\n",
    "            else:\n",
    "                ## 가수 맞는지 확인\n",
    "                artist_search = result_td[2].text.replace(' ', '').lower()\n",
    "#                 print('검색 결과: ', artist_search)\n",
    "                \n",
    "                if artist_search in artist_temp or artist_temp in artist_search:\n",
    "                    find = True\n",
    "                    true_count += 1\n",
    "                    addRow([id_list[i], music_list[i], artist_list[i], result_td[0].text, result_td[1].text, result_td[2].text])\n",
    "                    break\n",
    "                else:\n",
    "                    continue\n",
    "                    \n",
    "        for parser in parser_list:\n",
    "            if not find:\n",
    "                if len(music) > parser:\n",
    "                    music = music[:parser]\n",
    "                else:\n",
    "                    continue\n",
    "                driver.get(uri_base + music + uri_query)\n",
    "\n",
    "                result_list = driver.find_elements_by_css_selector('#BoardType1 tbody')[0]\n",
    "                result_list = result_list.find_elements_by_css_selector('tr')\n",
    "                result_list.pop(0)\n",
    "\n",
    "                for result in result_list:\n",
    "                    result_td = result.find_elements_by_css_selector('td')   \n",
    "                    title = result_td[1]\n",
    "\n",
    "                    if len(title.find_elements_by_css_selector('*')) > 2:\n",
    "                        ## MR 제거\n",
    "                        continue\n",
    "                    else:\n",
    "                        ## 가수 맞는지 확인\n",
    "                        artist_search = result_td[2].text.replace(' ', '').lower()\n",
    "\n",
    "                        if artist_search in artist_temp or artist_temp in artist_search:\n",
    "                            find = True\n",
    "                            true_count += 1\n",
    "                            addRow([id_list[i], music_list[i], artist_list[i], result_td[0].text, result_td[1].text, result_td[2].text])\n",
    "                            break\n",
    "                        else:\n",
    "                            continue\n",
    "            if find:\n",
    "                break\n",
    "    except:\n",
    "        find = False\n",
    "    if not find:\n",
    "        addRow([id_list[i], music_list[i], artist_list[i], '0', '0', '0'])\n",
    "    count += 1"
   ]
  },
  {
   "cell_type": "code",
   "execution_count": null,
   "id": "stopped-pointer",
   "metadata": {},
   "outputs": [],
   "source": [
    "print(true_count / count)"
   ]
  },
  {
   "cell_type": "code",
   "execution_count": null,
   "id": "spread-birth",
   "metadata": {},
   "outputs": [],
   "source": [
    "finder = 2491\n",
    "print(music_list[finder])\n",
    "print(artist_list[finder])"
   ]
  },
  {
   "cell_type": "code",
   "execution_count": null,
   "id": "architectural-nicaragua",
   "metadata": {},
   "outputs": [],
   "source": [
    "len(find_dict['id'])"
   ]
  },
  {
   "cell_type": "markdown",
   "id": "animal-martin",
   "metadata": {},
   "source": [
    "## 나오지 않는거\n",
    "봉구&권세은\n",
    "2단지\n",
    "9초 -없는 한곡만\n",
    "a great big world - 없는 한곡만\n",
    "\n"
   ]
  },
  {
   "cell_type": "code",
   "execution_count": null,
   "id": "wicked-combining",
   "metadata": {},
   "outputs": [],
   "source": [
    "with open('number2.csv', 'w', newline='', encoding='utf-8') as f:\n",
    "    writer = csv.writer(f)\n",
    "    for i in range(0, len(find_dict['id'])):\n",
    "        temp = []\n",
    "        for key in find_dict.keys():\n",
    "            temp.append(find_dict[key][i])\n",
    "        writer.writerow(temp)"
   ]
  },
  {
   "cell_type": "code",
   "execution_count": null,
   "id": "broke-chick",
   "metadata": {},
   "outputs": [],
   "source": []
  }
 ],
 "metadata": {
  "kernelspec": {
   "display_name": "Python 3",
   "language": "python",
   "name": "python3"
  },
  "language_info": {
   "codemirror_mode": {
    "name": "ipython",
    "version": 3
   },
   "file_extension": ".py",
   "mimetype": "text/x-python",
   "name": "python",
   "nbconvert_exporter": "python",
   "pygments_lexer": "ipython3",
   "version": "3.8.7"
  }
 },
 "nbformat": 4,
 "nbformat_minor": 5
}
