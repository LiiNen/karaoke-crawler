{
 "cells": [
  {
   "cell_type": "code",
   "execution_count": 20,
   "id": "minor-church",
   "metadata": {},
   "outputs": [],
   "source": [
    "import os\n",
    "import json\n",
    "import time\n",
    "from selenium import webdriver\n",
    "from selenium.webdriver.common.keys import Keys\n",
    "from dotenv import load_dotenv"
   ]
  },
  {
   "cell_type": "code",
   "execution_count": 14,
   "id": "auburn-marine",
   "metadata": {},
   "outputs": [],
   "source": [
    "load_dotenv(verbose=True)\n",
    "TJ_SRC=os.getenv('TJ_SRC')\n",
    "driver = webdriver.Chrome('./chromedriver')\n",
    "driver.get(TJ_SRC)"
   ]
  },
  {
   "cell_type": "code",
   "execution_count": 27,
   "id": "associate-heater",
   "metadata": {},
   "outputs": [],
   "source": [
    "music_list = ['신호등', '신촌을못가', '넌좋은사람', '흰눈', '까만안경', '라라라']\n",
    "artist_list = ['이무진', '포스트맨', 'SG워너비', '이루', '이루', 'SG워너비']"
   ]
  },
  {
   "cell_type": "code",
   "execution_count": null,
   "id": "existing-geology",
   "metadata": {},
   "outputs": [
    {
     "name": "stdout",
     "output_type": "stream",
     "text": [
      "76890 신호등 이무진\n",
      "36370 신촌을못가 포스트맨\n"
     ]
    }
   ],
   "source": [
    "driver.find_elements_by_css_selector('input#strWord')[0].click()\n",
    "\n",
    "for i in range(0, len(music_list)):\n",
    "    music = music_list[i]\n",
    "    artist = artist_list[i]\n",
    "\n",
    "    search_input = driver.find_elements_by_css_selector('input.searchInput')[0]\n",
    "    search_input.clear()\n",
    "    search_input.send_keys(music, Keys.ENTER)\n",
    "    time.sleep(0.5)\n",
    "\n",
    "    result_list = driver.find_elements_by_css_selector('#BoardType1 tbody')[0]\n",
    "    result_list = result_list.find_elements_by_css_selector('tr')\n",
    "    result_list.pop(0)\n",
    "\n",
    "    ### result_td\n",
    "    ### 0: karaoke number\n",
    "    ### 1: music title\n",
    "    ### 2: artist name\n",
    "    for result in result_list:\n",
    "        result_td = result.find_elements_by_css_selector('td')\n",
    "        title = result_td[1]\n",
    "        if len(title.find_elements_by_css_selector('*')) > 1:\n",
    "           continue\n",
    "        else:\n",
    "            if result_td[2].text in artist or artist in result_td[2].text:\n",
    "                print(result_td[0].text, result_td[1].find_elements_by_css_selector('span')[0].text, result_td[2].text)\n",
    "                break\n",
    "            continue"
   ]
  },
  {
   "cell_type": "code",
   "execution_count": null,
   "id": "human-minutes",
   "metadata": {},
   "outputs": [],
   "source": []
  }
 ],
 "metadata": {
  "kernelspec": {
   "display_name": "Python 3",
   "language": "python",
   "name": "python3"
  },
  "language_info": {
   "codemirror_mode": {
    "name": "ipython",
    "version": 3
   },
   "file_extension": ".py",
   "mimetype": "text/x-python",
   "name": "python",
   "nbconvert_exporter": "python",
   "pygments_lexer": "ipython3",
   "version": "3.8.7"
  }
 },
 "nbformat": 4,
 "nbformat_minor": 5
}
