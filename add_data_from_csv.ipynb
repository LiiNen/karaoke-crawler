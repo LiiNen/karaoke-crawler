{
 "cells": [
  {
   "cell_type": "code",
   "execution_count": null,
   "id": "beautiful-shelf",
   "metadata": {},
   "outputs": [],
   "source": [
    "import json\n",
    "import csv\n",
    "import math\n",
    "import requests"
   ]
  },
  {
   "cell_type": "code",
   "execution_count": null,
   "id": "hydraulic-budapest",
   "metadata": {},
   "outputs": [],
   "source": [
    "data_list = []\n",
    "\n",
    "with open('additionalMusic.csv', 'r', encoding='utf-8') as f:\n",
    "    reader = csv.reader(f)\n",
    "    for line in reader:\n",
    "        data_list.append([line[0], line[1].replace('\\xa0', ' '), line[2]])"
   ]
  },
  {
   "cell_type": "code",
   "execution_count": null,
   "id": "prescribed-bangkok",
   "metadata": {},
   "outputs": [],
   "source": [
    "data_list.pop(0)\n",
    "\n",
    "error = 0;\n",
    "patch = 0;\n",
    "post = 0;\n",
    "for data in data_list:\n",
    "    datas = {\n",
    "        'chart': -1,\n",
    "        'title': data[1],\n",
    "        'artist': data[2],\n",
    "        'number': data[0]\n",
    "    }\n",
    "    url = 'http://localhost:3000/dev/music/chart'\n",
    "    res = requests.post(url, json=datas)\n",
    "    if(res.json()['status'] == False):\n",
    "        error = error + 1\n",
    "    else:\n",
    "        if(res.json()['body'] == 'patch'):\n",
    "            patch = patch + 1\n",
    "        if(res.json()['body'] == 'post'):\n",
    "            post = post + 1"
   ]
  },
  {
   "cell_type": "code",
   "execution_count": null,
   "id": "alpine-bargain",
   "metadata": {},
   "outputs": [],
   "source": [
    "print(error, patch, post)"
   ]
  },
  {
   "cell_type": "code",
   "execution_count": null,
   "id": "critical-suspect",
   "metadata": {},
   "outputs": [],
   "source": []
  }
 ],
 "metadata": {
  "kernelspec": {
   "display_name": "Python 3",
   "language": "python",
   "name": "python3"
  },
  "language_info": {
   "codemirror_mode": {
    "name": "ipython",
    "version": 3
   },
   "file_extension": ".py",
   "mimetype": "text/x-python",
   "name": "python",
   "nbconvert_exporter": "python",
   "pygments_lexer": "ipython3",
   "version": "3.8.7"
  }
 },
 "nbformat": 4,
 "nbformat_minor": 5
}
