{
 "cells": [
  {
   "cell_type": "code",
   "execution_count": null,
   "id": "hundred-campaign",
   "metadata": {},
   "outputs": [],
   "source": [
    "import json\n",
    "import csv\n",
    "import math\n",
    "import requests"
   ]
  },
  {
   "cell_type": "code",
   "execution_count": null,
   "id": "northern-spouse",
   "metadata": {},
   "outputs": [],
   "source": [
    "itunes_id_list = []\n",
    "number_list = []\n",
    "\n",
    "with open('number2.csv', 'r', encoding='utf-8') as f:\n",
    "    reader = csv.reader(f)\n",
    "    for line in reader:\n",
    "        if(int(line[3]) == 0):\n",
    "            continue\n",
    "        itunes_id_list.append(int(line[0]))\n",
    "        number_list.append(int(line[3]))"
   ]
  },
  {
   "cell_type": "code",
   "execution_count": null,
   "id": "critical-fossil",
   "metadata": {},
   "outputs": [],
   "source": [
    "len(itunes_id_list)"
   ]
  },
  {
   "cell_type": "code",
   "execution_count": null,
   "id": "sealed-narrow",
   "metadata": {},
   "outputs": [],
   "source": [
    "len(number_list)"
   ]
  },
  {
   "cell_type": "code",
   "execution_count": null,
   "id": "preliminary-legislation",
   "metadata": {},
   "outputs": [],
   "source": [
    "for i in range(0, len(itunes_id_list)):\n",
    "    datas = {\n",
    "        \"itunes_id\": itunes_id_list[i],\n",
    "        \"number\": number_list[i]\n",
    "    }\n",
    "    url = 'http://localhost:3000/dev/music/number'\n",
    "    res = requests.patch(url, json=datas)\n",
    "    if(res.json()['status'] == False):\n",
    "        print(datas)"
   ]
  },
  {
   "cell_type": "markdown",
   "id": "laden-fruit",
   "metadata": {},
   "source": [
    "## cluster"
   ]
  },
  {
   "cell_type": "code",
   "execution_count": null,
   "id": "romantic-grant",
   "metadata": {},
   "outputs": [],
   "source": [
    "itunes_id_list = []\n",
    "cluster_list = []\n",
    "\n",
    "start = True\n",
    "\n",
    "with open('r11_50cluster.csv', 'r', encoding='utf-8') as f:\n",
    "    reader = csv.reader(f)\n",
    "    for line in reader:\n",
    "        if start:\n",
    "            start = False\n",
    "            continue\n",
    "        itunes_id_list.append(int(line[0]))\n",
    "        cluster_list.append(int(line[1]))"
   ]
  },
  {
   "cell_type": "code",
   "execution_count": null,
   "id": "generic-endorsement",
   "metadata": {},
   "outputs": [],
   "source": [
    "len(itunes_id_list)"
   ]
  },
  {
   "cell_type": "code",
   "execution_count": null,
   "id": "functional-egyptian",
   "metadata": {},
   "outputs": [],
   "source": [
    "len(cluster_list)"
   ]
  },
  {
   "cell_type": "code",
   "execution_count": null,
   "id": "increasing-college",
   "metadata": {},
   "outputs": [],
   "source": [
    "for i in range(0, len(itunes_id_list)):\n",
    "    datas = {\n",
    "        \"itunes_id\": itunes_id_list[i],\n",
    "        \"cluster\": cluster_list[i]\n",
    "    }\n",
    "    url = 'http://localhost:3000/dev/music/cluster'\n",
    "    res = requests.patch(url, json=datas)\n",
    "    if(res.json()['status'] == False):\n",
    "        print(datas)"
   ]
  },
  {
   "cell_type": "code",
   "execution_count": null,
   "id": "compound-identification",
   "metadata": {},
   "outputs": [],
   "source": []
  }
 ],
 "metadata": {
  "kernelspec": {
   "display_name": "Python 3",
   "language": "python",
   "name": "python3"
  },
  "language_info": {
   "codemirror_mode": {
    "name": "ipython",
    "version": 3
   },
   "file_extension": ".py",
   "mimetype": "text/x-python",
   "name": "python",
   "nbconvert_exporter": "python",
   "pygments_lexer": "ipython3",
   "version": "3.8.7"
  }
 },
 "nbformat": 4,
 "nbformat_minor": 5
}
