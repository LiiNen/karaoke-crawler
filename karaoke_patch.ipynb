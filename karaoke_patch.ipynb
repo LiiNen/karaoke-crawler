{
 "cells": [
  {
   "cell_type": "code",
   "execution_count": 1,
   "id": "hundred-campaign",
   "metadata": {},
   "outputs": [],
   "source": [
    "import json\n",
    "import csv\n",
    "import math"
   ]
  },
  {
   "cell_type": "code",
   "execution_count": 4,
   "id": "northern-spouse",
   "metadata": {},
   "outputs": [],
   "source": [
    "itunes_id_list = []\n",
    "number_list = []\n",
    "\n",
    "with open('number.csv', 'r', encoding='utf-8') as f:\n",
    "    reader = csv.reader(f)\n",
    "    for line in reader:\n",
    "        if(int(line[3]) == 0):\n",
    "            continue\n",
    "        itunes_id_list.append(int(line[0]))\n",
    "        number_list.append(int(line[3]))"
   ]
  },
  {
   "cell_type": "code",
   "execution_count": 5,
   "id": "critical-fossil",
   "metadata": {},
   "outputs": [
    {
     "data": {
      "text/plain": [
       "2046"
      ]
     },
     "execution_count": 5,
     "metadata": {},
     "output_type": "execute_result"
    }
   ],
   "source": [
    "len(itunes_id_list)"
   ]
  },
  {
   "cell_type": "code",
   "execution_count": 6,
   "id": "sealed-narrow",
   "metadata": {},
   "outputs": [
    {
     "data": {
      "text/plain": [
       "2046"
      ]
     },
     "execution_count": 6,
     "metadata": {},
     "output_type": "execute_result"
    }
   ],
   "source": [
    "len(number_list)"
   ]
  },
  {
   "cell_type": "code",
   "execution_count": 7,
   "id": "extreme-korea",
   "metadata": {},
   "outputs": [],
   "source": [
    "import requests"
   ]
  },
  {
   "cell_type": "code",
   "execution_count": 11,
   "id": "preliminary-legislation",
   "metadata": {},
   "outputs": [],
   "source": [
    "for i in range(0, len(itunes_id_list)):\n",
    "    datas = {\n",
    "        \"itunes_id\": itunes_id_list[i],\n",
    "        \"number\": number_list[i]\n",
    "    }\n",
    "    url = 'http://localhost:3000/dev/music/number'\n",
    "    res = requests.patch(url, json=datas)\n",
    "    if(res.json()['status'] == False):\n",
    "        print(datas)"
   ]
  },
  {
   "cell_type": "code",
   "execution_count": null,
   "id": "romantic-grant",
   "metadata": {},
   "outputs": [],
   "source": []
  }
 ],
 "metadata": {
  "kernelspec": {
   "display_name": "Python 3",
   "language": "python",
   "name": "python3"
  },
  "language_info": {
   "codemirror_mode": {
    "name": "ipython",
    "version": 3
   },
   "file_extension": ".py",
   "mimetype": "text/x-python",
   "name": "python",
   "nbconvert_exporter": "python",
   "pygments_lexer": "ipython3",
   "version": "3.8.7"
  }
 },
 "nbformat": 4,
 "nbformat_minor": 5
}
